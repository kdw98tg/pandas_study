{
 "cells": [
  {
   "cell_type": "markdown",
   "id": "7df56095",
   "metadata": {},
   "source": [
    "# Series 란?\n",
    "\n",
    "- Series 란 Data 컬럼이 1개인 자료구조이며, 인덱스와 1개의 열로 구성되어 있음\n",
    "\n",
    "# Series 만드는 방법 \n",
    "\n",
    "- pandas.Series()에 DataType이 1. 리스트, 혹은 2. 딕셔너리로 만들 수 있음\n",
    "- 딕셔너리의 경우 index와 value가 같이 만들어지며, 리스트의 경우 value만 지정됨\n",
    "\n"
   ]
  },
  {
   "cell_type": "code",
   "execution_count": 3,
   "id": "289f0865",
   "metadata": {},
   "outputs": [],
   "source": [
    "# 판다스 라이브러리 import\n",
    "\n",
    "import pandas as pd\n"
   ]
  },
  {
   "cell_type": "code",
   "execution_count": 8,
   "id": "97cd4802",
   "metadata": {},
   "outputs": [
    {
     "name": "stdout",
     "output_type": "stream",
     "text": [
      "0    1\n",
      "1    2\n",
      "2    3\n",
      "3    4\n",
      "4    5\n",
      "5    6\n",
      "6    7\n",
      "7    8\n",
      "8    9\n",
      "dtype: int64\n",
      "\n",
      "0        1\n",
      "1        2\n",
      "2        3\n",
      "3    Apple\n",
      "4     play\n",
      "5        6\n",
      "6        7\n",
      "7        8\n",
      "8        9\n",
      "dtype: object\n"
     ]
    }
   ],
   "source": [
    "# DataType이 리스트인 경우\n",
    "\n",
    "ls1 = [1,2,3,4,5,6,7,8,9]\n",
    "ls2 = [1,2,3,'Apple', 'play', 6,7,8,9]\n",
    "\n",
    "sr1 = pd.Series(ls1) # 리스트로 시리즈 만들기\n",
    "sr2 = pd.Series(ls2) # 시리즈를 만들면 색인이 자동으로 0부터 붙게됨\n",
    "\n",
    "print(sr1)\n",
    "print()\n",
    "print(sr2)"
   ]
  },
  {
   "cell_type": "code",
   "execution_count": 9,
   "id": "992d4ce3",
   "metadata": {},
   "outputs": [
    {
     "data": {
      "text/plain": [
       "0        1\n",
       "1        2\n",
       "2        3\n",
       "3    Apple\n",
       "4     play\n",
       "5        6\n",
       "6        7\n",
       "7        8\n",
       "8        9\n",
       "Name: Word, dtype: object"
      ]
     },
     "execution_count": 9,
     "metadata": {},
     "output_type": "execute_result"
    }
   ],
   "source": [
    "# Series에 Name을 설정할 수 있음\n",
    "# 그냥 Series의 이름을 설정하는 부분이가봄\n",
    "sr1.name = \"Number\"\n",
    "sr2.name = \"Word\"\n",
    "sr2"
   ]
  },
  {
   "cell_type": "code",
   "execution_count": 10,
   "id": "af6d11ea",
   "metadata": {},
   "outputs": [
    {
     "name": "stdout",
     "output_type": "stream",
     "text": [
      "a    1\n",
      "b    2\n",
      "c    3\n",
      "d    4\n",
      "dtype: int64\n"
     ]
    },
    {
     "data": {
      "text/plain": [
       "a    1\n",
       "b    2\n",
       "c    3\n",
       "d    4\n",
       "Name: Number, dtype: int64"
      ]
     },
     "execution_count": 10,
     "metadata": {},
     "output_type": "execute_result"
    }
   ],
   "source": [
    "# Dictionary로 만들기\n",
    "# Dictionary로 만들면 자동으로 붙는 색인이 딕셔너리의 키값이 됨\n",
    "\n",
    "dicionary1 = {\"a\" : 1,\"b\" : 2,\"c\" : 3,\"d\" : 4}\n",
    "\n",
    "sr3 = pd.Series(dicionary1)\n",
    "print(sr3)\n",
    "sr3.name = \"Number\"\n",
    "sr3"
   ]
  },
  {
   "cell_type": "markdown",
   "id": "d4810700",
   "metadata": {},
   "source": [
    "# 삼성전자 종가 Series로 불러오기\n",
    "- csv 파일에서 가져올것임\n",
    "- path, index_col, header, squeeze 사용\n"
   ]
  },
  {
   "cell_type": "code",
   "execution_count": 20,
   "id": "c54fa6d6",
   "metadata": {},
   "outputs": [
    {
     "name": "stdout",
     "output_type": "stream",
     "text": [
      "Date\n",
      "2018-01-02    51020\n",
      "2018-01-03    51620\n",
      "2018-01-04    51080\n",
      "2018-01-05    52120\n",
      "2018-01-08    52020\n",
      "              ...  \n",
      "2021-12-13    76800\n",
      "2021-12-14    77000\n",
      "2021-12-15    77600\n",
      "2021-12-16    77800\n",
      "2021-12-17    78000\n",
      "Name: Close, Length: 977, dtype: int64\n"
     ]
    }
   ],
   "source": [
    "path = \"C:\\\\Users\\\\window11\\\\Documents\\\\codes\\\\python\\\\pandas\\\\강의자료\\\\Data\\\\삼성전자종가.csv\"\n",
    "\n",
    "#a = pd.read_csv(path, index_col = 0, header = 0).squeeze()\n",
    "samsung_price = pd.read_csv(path, index_col = 0) # 자동으로 생성되는 인덱스를 없애고, 가져온 0번째 행을 인덱스로 사용하겠다는 뜻\n",
    "samsung_price = pd.read_csv(path, index_col = 0, header = 0) # header는 0번쨰 인덱스를 열의 이름으로 사용하겠다는 뜻, 기본도 0이라 안써도 됨\n",
    "samsung_price = pd.read_csv(path, index_col = 0, header = 0).squeeze() # squeeze를 하면, 1열짜리 데이터프레임을 Series로 바꿔줌\n",
    "\n",
    "print(samsung_price)"
   ]
  },
  {
   "cell_type": "markdown",
   "id": "c3684a0b",
   "metadata": {},
   "source": [
    "# Series Index & Value"
   ]
  },
  {
   "cell_type": "code",
   "execution_count": 24,
   "id": "63276b16",
   "metadata": {},
   "outputs": [
    {
     "name": "stdout",
     "output_type": "stream",
     "text": [
      "Date\n",
      "2018-01-02    51020\n",
      "2018-01-03    51620\n",
      "2018-01-04    51080\n",
      "2018-01-05    52120\n",
      "2018-01-08    52020\n",
      "              ...  \n",
      "2021-12-13    76800\n",
      "2021-12-14    77000\n",
      "2021-12-15    77600\n",
      "2021-12-16    77800\n",
      "2021-12-17    78000\n",
      "Name: Close, Length: 977, dtype: int64\n"
     ]
    }
   ],
   "source": [
    "import pandas as pd\n",
    "samsung_price = pd.read_csv(path, index_col = 0).squeeze()\n",
    "print(samsung_price)"
   ]
  },
  {
   "cell_type": "code",
   "execution_count": 25,
   "id": "7c4d8551",
   "metadata": {},
   "outputs": [
    {
     "name": "stdout",
     "output_type": "stream",
     "text": [
      "Index(['2018-01-02', '2018-01-03', '2018-01-04', '2018-01-05', '2018-01-08',\n",
      "       '2018-01-09', '2018-01-10', '2018-01-11', '2018-01-12', '2018-01-15',\n",
      "       ...\n",
      "       '2021-12-06', '2021-12-07', '2021-12-08', '2021-12-09', '2021-12-10',\n",
      "       '2021-12-13', '2021-12-14', '2021-12-15', '2021-12-16', '2021-12-17'],\n",
      "      dtype='object', name='Date', length=977)\n"
     ]
    }
   ],
   "source": [
    "# samsung price의 인덱스만 추출\n",
    "# array 형태로 나옴옴\n",
    "print(samsung_price.index)"
   ]
  },
  {
   "cell_type": "code",
   "execution_count": 26,
   "id": "d2165dcd",
   "metadata": {},
   "outputs": [
    {
     "name": "stdout",
     "output_type": "stream",
     "text": [
      "73800\n"
     ]
    }
   ],
   "source": [
    "# 2020-12-15 처럼 특정 날짜의 데이터를 가져오는 방법 \n",
    "# loc 사용\n",
    "print(samsung_price.loc['2020-12-15'])"
   ]
  },
  {
   "cell_type": "code",
   "execution_count": 29,
   "id": "a78c4baf",
   "metadata": {},
   "outputs": [
    {
     "data": {
      "text/plain": [
       "49500"
      ]
     },
     "execution_count": 29,
     "metadata": {},
     "output_type": "execute_result"
    }
   ],
   "source": [
    "# 몇번째 값을 뽑을때는 iloc 사용\n",
    "samsung_price.iloc[100]"
   ]
  },
  {
   "cell_type": "markdown",
   "id": "8396e0a6",
   "metadata": {},
   "source": [
    "# Series에 새로운 행을 추가하고 싶을때"
   ]
  },
  {
   "cell_type": "code",
   "execution_count": 30,
   "id": "f64f29bb",
   "metadata": {},
   "outputs": [
    {
     "data": {
      "text/plain": [
       "Date\n",
       "2018-01-02    51020\n",
       "2018-01-03    51620\n",
       "2018-01-04    51080\n",
       "2018-01-05    52120\n",
       "2018-01-08    52020\n",
       "              ...  \n",
       "2021-12-13    76800\n",
       "2021-12-14    77000\n",
       "2021-12-15    77600\n",
       "2021-12-16    77800\n",
       "2021-12-17    78000\n",
       "Name: Close, Length: 977, dtype: int64"
      ]
     },
     "execution_count": 30,
     "metadata": {},
     "output_type": "execute_result"
    }
   ],
   "source": [
    "samsung_price"
   ]
  },
  {
   "cell_type": "code",
   "execution_count": 31,
   "id": "284292b3",
   "metadata": {},
   "outputs": [
    {
     "data": {
      "text/plain": [
       "(977,)"
      ]
     },
     "execution_count": 31,
     "metadata": {},
     "output_type": "execute_result"
    }
   ],
   "source": [
    "# samsung_price의 총 길이\n",
    "# samsung_price.index[samsung_price.shape[0]-1]\n",
    "samsung_price.shape"
   ]
  },
  {
   "cell_type": "code",
   "execution_count": 32,
   "id": "39ea0b28",
   "metadata": {},
   "outputs": [
    {
     "data": {
      "text/plain": [
       "'2021-12-17'"
      ]
     },
     "execution_count": 32,
     "metadata": {},
     "output_type": "execute_result"
    }
   ],
   "source": [
    "samsung_price.index[samsung_price.shape[0]-1] # 맨 마지막 날짜 뽑는 코드"
   ]
  },
  {
   "cell_type": "code",
   "execution_count": 37,
   "id": "0030f377",
   "metadata": {},
   "outputs": [
    {
     "data": {
      "text/plain": [
       "Date\n",
       "2018-01-02        0\n",
       "2018-01-03    51620\n",
       "2018-01-04    51080\n",
       "2018-01-05    52120\n",
       "2018-01-08    52020\n",
       "              ...  \n",
       "2021-12-14    77000\n",
       "2021-12-15    77600\n",
       "2021-12-16    77800\n",
       "2021-12-17    78000\n",
       "2021-12-20    77100\n",
       "Name: Close, Length: 978, dtype: int64"
      ]
     },
     "execution_count": 37,
     "metadata": {},
     "output_type": "execute_result"
    }
   ],
   "source": [
    "samsung_price.loc['2021-12-20'] = 77100\n",
    "samsung_price\n",
    "samsung_price.iloc[0] = 0\n",
    "samsung_price"
   ]
  },
  {
   "cell_type": "code",
   "execution_count": 38,
   "id": "ce28362a",
   "metadata": {},
   "outputs": [
    {
     "data": {
      "text/plain": [
       "count      978.000000\n",
       "mean     57263.936605\n",
       "std      14208.713811\n",
       "min          0.000000\n",
       "25%      46262.500000\n",
       "50%      51300.000000\n",
       "75%      70200.000000\n",
       "max      91000.000000\n",
       "Name: Close, dtype: float64"
      ]
     },
     "execution_count": 38,
     "metadata": {},
     "output_type": "execute_result"
    }
   ],
   "source": [
    "samsung_price.describe() # series의 정보를 나타내는 함수"
   ]
  },
  {
   "cell_type": "markdown",
   "id": "1ec83168",
   "metadata": {},
   "source": [
    "# 두개의 Series를 합성함"
   ]
  },
  {
   "cell_type": "code",
   "execution_count": 52,
   "id": "28299556",
   "metadata": {},
   "outputs": [
    {
     "data": {
      "text/plain": [
       "Date\n",
       "2018-01-02    51020\n",
       "2018-01-03    51620\n",
       "2018-01-04    51080\n",
       "2018-01-05    52120\n",
       "2018-01-08    52020\n",
       "              ...  \n",
       "2021-12-20    77100\n",
       "2021-12-21    78100\n",
       "2021-12-22    79400\n",
       "2021-12-23    79900\n",
       "2021-12-24    80500\n",
       "Name: Close, Length: 982, dtype: int64"
      ]
     },
     "execution_count": 52,
     "metadata": {},
     "output_type": "execute_result"
    }
   ],
   "source": [
    "path = \"C:\\\\Users\\\\window11\\\\Documents\\\\codes\\\\python\\\\pandas\\\\강의자료\\\\Data\\\\samsung_excel.xlsx\"\n",
    "series1_samsung = pd.read_excel(path, sheet_name='Sheet1', index_col = 0).squeeze()\n",
    "series1_samsung\n",
    "series2_samsung = pd.read_excel(path,index_col=0,sheet_name='Sheet2').squeeze()\n",
    "series2_samsung\n",
    "\n",
    "series_samsung = pd.concat([series1_samsung, series2_samsung], ignore_index=False) # ignore_index = False가 디폴트, 원래 표에 있는 인덱스를 쓴다는 뜻\n",
    "series_samsung"
   ]
  },
  {
   "cell_type": "markdown",
   "id": "575ce29e",
   "metadata": {},
   "source": [
    "# Series 기본 통계치 구하기\n"
   ]
  },
  {
   "cell_type": "code",
   "execution_count": 55,
   "id": "482dab6d",
   "metadata": {},
   "outputs": [
    {
     "data": {
      "text/plain": [
       "Date\n",
       "2018-01-02    51020\n",
       "2018-01-03    51620\n",
       "2018-01-04    51080\n",
       "2018-01-05    52120\n",
       "2018-01-08    52020\n",
       "              ...  \n",
       "2021-12-13    76800\n",
       "2021-12-14    77000\n",
       "2021-12-15    77600\n",
       "2021-12-16    77800\n",
       "2021-12-17    78000\n",
       "Name: Close, Length: 977, dtype: int64"
      ]
     },
     "execution_count": 55,
     "metadata": {},
     "output_type": "execute_result"
    }
   ],
   "source": [
    "path = \"C:\\\\Users\\\\window11\\\\Documents\\\\codes\\\\python\\\\pandas\\\\강의자료\\\\Data\\\\삼성전자종가.csv\"\n",
    "samsung_price = pd.read_csv(path, index_col=0).squeeze()\n",
    "samsung_price"
   ]
  },
  {
   "cell_type": "code",
   "execution_count": 60,
   "id": "f3410b1f",
   "metadata": {},
   "outputs": [
    {
     "name": "stdout",
     "output_type": "stream",
     "text": [
      "고점 : 91000\n",
      "저점 : 37450\n",
      "\n",
      "count      977.000000\n",
      "mean     57295.854657\n",
      "std      14084.402274\n",
      "min      37450.000000\n",
      "25%      46300.000000\n",
      "50%      51300.000000\n",
      "75%      70200.000000\n",
      "max      91000.000000\n",
      "Name: Close, dtype: float64\n"
     ]
    }
   ],
   "source": [
    "# 삼성전자의 고점과 저점 구하기\n",
    "print(f\"고점 : {samsung_price.max()}\")\n",
    "print(f\"저점 : {samsung_price.min()}\")\n",
    "print()\n",
    "print(samsung_price.describe())"
   ]
  },
  {
   "cell_type": "code",
   "execution_count": 67,
   "id": "348dc093",
   "metadata": {},
   "outputs": [
    {
     "data": {
      "text/plain": [
       "Index(['2019-01-04'], dtype='object', name='Date')"
      ]
     },
     "execution_count": 67,
     "metadata": {},
     "output_type": "execute_result"
    }
   ],
   "source": [
    "# 배열을 반환하는데, 배열에서 해당값이 있으면 true로 됨. 그리고 그 true가 된 값의 index를 가져옴\n",
    "samsung_price.index[samsung_price.values == samsung_price.max()]\n",
    "samsung_price.values == samsung_price.max()\n",
    "samsung_price.index[samsung_price.values  == samsung_price.min()]"
   ]
  },
  {
   "cell_type": "code",
   "execution_count": 71,
   "id": "7f209103",
   "metadata": {},
   "outputs": [
    {
     "name": "stdout",
     "output_type": "stream",
     "text": [
      "37450\n",
      "2019-01-04\n",
      "91000\n",
      "2021-01-11\n"
     ]
    }
   ],
   "source": [
    "print(samsung_price.iloc[samsung_price.argmin()]) # argmin() 은 가장 작은 값의 위치의 요소를 가져오는 코드\n",
    "print(samsung_price.index[samsung_price.argmin()])\n",
    "print(samsung_price.iloc[samsung_price.argmax()])\n",
    "print(samsung_price.index[samsung_price.argmax()])"
   ]
  },
  {
   "cell_type": "markdown",
   "id": "29639dd1",
   "metadata": {},
   "source": [
    "# Series 연산\n",
    "\n",
    "- 삼전 수익률 구하기\n",
    "- pct_change() 함수 사용하면 됨"
   ]
  },
  {
   "cell_type": "code",
   "execution_count": 74,
   "id": "a08c1757",
   "metadata": {},
   "outputs": [
    {
     "data": {
      "text/plain": [
       "Date\n",
       "2018-01-02        NaN\n",
       "2018-01-03    51020.0\n",
       "2018-01-04    51620.0\n",
       "2018-01-05    51080.0\n",
       "2018-01-08    52120.0\n",
       "               ...   \n",
       "2021-12-13    76900.0\n",
       "2021-12-14    76800.0\n",
       "2021-12-15    77000.0\n",
       "2021-12-16    77600.0\n",
       "2021-12-17    77800.0\n",
       "Name: Close, Length: 977, dtype: float64"
      ]
     },
     "execution_count": 74,
     "metadata": {},
     "output_type": "execute_result"
    }
   ],
   "source": [
    "samsung_price.shift(1) # 값들을 아래로 한칸씩 다 밀어버림\n",
    "# 빈칸은 NaN 으로 채워짐"
   ]
  },
  {
   "cell_type": "code",
   "execution_count": 76,
   "id": "64b396e4",
   "metadata": {},
   "outputs": [
    {
     "data": {
      "text/plain": [
       "Date\n",
       "2018-01-02       NaN\n",
       "2018-01-03     600.0\n",
       "2018-01-04    -540.0\n",
       "2018-01-05    1040.0\n",
       "2018-01-08    -100.0\n",
       "               ...  \n",
       "2021-12-13    -100.0\n",
       "2021-12-14     200.0\n",
       "2021-12-15     600.0\n",
       "2021-12-16     200.0\n",
       "2021-12-17     200.0\n",
       "Name: Close, Length: 977, dtype: float64"
      ]
     },
     "execution_count": 76,
     "metadata": {},
     "output_type": "execute_result"
    }
   ],
   "source": [
    "# 원래의 Series 에서 한칸 아래로 민 Sereis를 빼는 연산\n",
    "# Nan 값을 연산하면 값이 어떻든 Nan 이 됨\n",
    "samsung_price - samsung_price.shift(1) "
   ]
  },
  {
   "cell_type": "code",
   "execution_count": 79,
   "id": "8a99a712",
   "metadata": {},
   "outputs": [
    {
     "data": {
      "text/plain": [
       "Date\n",
       "2018-01-02         NaN\n",
       "2018-01-03    0.011760\n",
       "2018-01-04   -0.010461\n",
       "2018-01-05    0.020360\n",
       "2018-01-08   -0.001919\n",
       "                ...   \n",
       "2021-12-13   -0.001300\n",
       "2021-12-14    0.002604\n",
       "2021-12-15    0.007792\n",
       "2021-12-16    0.002577\n",
       "2021-12-17    0.002571\n",
       "Name: Close, Length: 977, dtype: float64"
      ]
     },
     "execution_count": 79,
     "metadata": {},
     "output_type": "execute_result"
    }
   ],
   "source": [
    "# samsung_price 와 samsung_price를 한칸 민걸 연산을 하면, 변동량이 책정됨\n",
    "# 그 값에다가 한칸 아래로 민 값을 나눠주면 변동률이 계산이 됨\n",
    "samsung_return = (samsung_price - samsung_price.shift(1))/samsung_price.shift(1)\n",
    "samsung_return"
   ]
  },
  {
   "cell_type": "code",
   "execution_count": 83,
   "id": "8e014f34",
   "metadata": {},
   "outputs": [
    {
     "data": {
      "text/plain": [
       "Date\n",
       "2018-01-02         NaN\n",
       "2018-01-03    0.011760\n",
       "2018-01-04   -0.010461\n",
       "2018-01-05    0.020360\n",
       "2018-01-08   -0.001919\n",
       "                ...   \n",
       "2021-12-13   -0.001300\n",
       "2021-12-14    0.002604\n",
       "2021-12-15    0.007792\n",
       "2021-12-16    0.002577\n",
       "2021-12-17    0.002571\n",
       "Name: Close, Length: 977, dtype: float64"
      ]
     },
     "execution_count": 83,
     "metadata": {},
     "output_type": "execute_result"
    }
   ],
   "source": [
    "samsung_price.pct_change() # 이게 그냥 수익률 구하는 함수임. 위에 연산을 할 필요 없이 이 함수 호출하면 됨"
   ]
  },
  {
   "cell_type": "code",
   "execution_count": 85,
   "id": "aaaa41d3",
   "metadata": {},
   "outputs": [
    {
     "data": {
      "text/plain": [
       "0.10470588235294118"
      ]
     },
     "execution_count": 85,
     "metadata": {},
     "output_type": "execute_result"
    }
   ],
   "source": [
    "samsung_return.max()"
   ]
  },
  {
   "cell_type": "code",
   "execution_count": 89,
   "id": "25ea6b02",
   "metadata": {},
   "outputs": [
    {
     "name": "stdout",
     "output_type": "stream",
     "text": [
      "546\n",
      "Index(['2018-01-02', '2018-01-03', '2018-01-04', '2018-01-05', '2018-01-08',\n",
      "       '2018-01-09', '2018-01-10', '2018-01-11', '2018-01-12', '2018-01-15',\n",
      "       ...\n",
      "       '2021-12-06', '2021-12-07', '2021-12-08', '2021-12-09', '2021-12-10',\n",
      "       '2021-12-13', '2021-12-14', '2021-12-15', '2021-12-16', '2021-12-17'],\n",
      "      dtype='object', name='Date', length=977)\n",
      "2020-03-24\n"
     ]
    }
   ],
   "source": [
    "print(samsung_return.argmax()) # 가장 큰 값은 546번쨰 행에 있음\n",
    "print(samsung_return.index) # 배열을 가져와서\n",
    "print(samsung_return.index[samsung_return.argmax()]) # 그 배열의 546번쨰 인덱스를 출력함 (인덱스를 날짜로 설정했기 때문에, 날짜가 나옴)"
   ]
  },
  {
   "cell_type": "markdown",
   "id": "f1494842",
   "metadata": {},
   "source": [
    "# Nan 값\n",
    "\n",
    "- dropna()\n",
    "- fillna(채울 숫자)\n"
   ]
  },
  {
   "cell_type": "code",
   "execution_count": 92,
   "id": "00d3c196",
   "metadata": {},
   "outputs": [
    {
     "data": {
      "text/plain": [
       "Date\n",
       "2018-01-02         NaN\n",
       "2018-01-03    0.011760\n",
       "2018-01-04   -0.010461\n",
       "2018-01-05    0.020360\n",
       "2018-01-08   -0.001919\n",
       "                ...   \n",
       "2021-12-13   -0.001300\n",
       "2021-12-14    0.002604\n",
       "2021-12-15    0.007792\n",
       "2021-12-16    0.002577\n",
       "2021-12-17    0.002571\n",
       "Name: Close, Length: 977, dtype: float64"
      ]
     },
     "execution_count": 92,
     "metadata": {},
     "output_type": "execute_result"
    }
   ],
   "source": [
    "samsung_price = pd.read_csv(path, index_col = 0, header = 0).squeeze()\n",
    "samsung_price\n",
    "samsung_return = (samsung_price - samsung_price.shift(1))/samsung_price.shift(1)\n",
    "samsung_return = samsung_price.pct_change()\n",
    "samsung_return"
   ]
  },
  {
   "cell_type": "code",
   "execution_count": 95,
   "id": "a3761d60",
   "metadata": {},
   "outputs": [
    {
     "data": {
      "text/plain": [
       "Date\n",
       "2018-01-03    0.011760\n",
       "2018-01-04   -0.010461\n",
       "2018-01-05    0.020360\n",
       "2018-01-08   -0.001919\n",
       "2018-01-09   -0.031142\n",
       "                ...   \n",
       "2021-12-13   -0.001300\n",
       "2021-12-14    0.002604\n",
       "2021-12-15    0.007792\n",
       "2021-12-16    0.002577\n",
       "2021-12-17    0.002571\n",
       "Name: Close, Length: 976, dtype: float64"
      ]
     },
     "execution_count": 95,
     "metadata": {},
     "output_type": "execute_result"
    }
   ],
   "source": [
    "samsung_return.dropna() # Nan 값을 드롭 즉 삭제시켜버림"
   ]
  },
  {
   "cell_type": "code",
   "execution_count": 97,
   "id": "2811725b",
   "metadata": {},
   "outputs": [
    {
     "data": {
      "text/plain": [
       "Date\n",
       "2018-01-02    0.000000\n",
       "2018-01-03    0.011760\n",
       "2018-01-04   -0.010461\n",
       "2018-01-05    0.020360\n",
       "2018-01-08   -0.001919\n",
       "                ...   \n",
       "2021-12-13   -0.001300\n",
       "2021-12-14    0.002604\n",
       "2021-12-15    0.007792\n",
       "2021-12-16    0.002577\n",
       "2021-12-17    0.002571\n",
       "Name: Close, Length: 977, dtype: float64"
      ]
     },
     "execution_count": 97,
     "metadata": {},
     "output_type": "execute_result"
    }
   ],
   "source": [
    "samsung_return.fillna(0)# Nan 값에다가 인자의 숫자를 채워넣음"
   ]
  },
  {
   "cell_type": "markdown",
   "id": "dc033695",
   "metadata": {},
   "source": [
    "# 순서대로 정렬\n",
    "- sort_index() \n",
    "- sort_values()"
   ]
  },
  {
   "cell_type": "code",
   "execution_count": 99,
   "id": "7bb08721",
   "metadata": {},
   "outputs": [
    {
     "data": {
      "text/plain": [
       "Date\n",
       "2018-01-02         NaN\n",
       "2018-01-03    0.011760\n",
       "2018-01-04   -0.010461\n",
       "2018-01-05    0.020360\n",
       "2018-01-08   -0.001919\n",
       "                ...   \n",
       "2021-12-13   -0.001300\n",
       "2021-12-14    0.002604\n",
       "2021-12-15    0.007792\n",
       "2021-12-16    0.002577\n",
       "2021-12-17    0.002571\n",
       "Name: Close, Length: 977, dtype: float64"
      ]
     },
     "execution_count": 99,
     "metadata": {},
     "output_type": "execute_result"
    }
   ],
   "source": [
    "samsung_price = pd.read_csv(path, index_col = 0, header = 0).squeeze()\n",
    "samsung_price\n",
    "samsung_return = (samsung_price - samsung_price.shift(1))/samsung_price.shift(1)\n",
    "samsung_return = samsung_price.pct_change()\n",
    "samsung_return"
   ]
  },
  {
   "cell_type": "code",
   "execution_count": 102,
   "id": "b4519a1b",
   "metadata": {},
   "outputs": [
    {
     "data": {
      "text/plain": [
       "Date\n",
       "2018-01-02    51020\n",
       "2018-01-03    51620\n",
       "2018-01-04    51080\n",
       "2018-01-05    52120\n",
       "2018-01-08    52020\n",
       "              ...  \n",
       "2021-12-13    76800\n",
       "2021-12-14    77000\n",
       "2021-12-15    77600\n",
       "2021-12-16    77800\n",
       "2021-12-17    78000\n",
       "Name: Close, Length: 977, dtype: int64"
      ]
     },
     "execution_count": 102,
     "metadata": {},
     "output_type": "execute_result"
    }
   ],
   "source": [
    "# index 순서대로 정렬\n",
    "samsung_price.sort_index(ascending=True) "
   ]
  },
  {
   "cell_type": "code",
   "execution_count": 104,
   "id": "2c68f7cb",
   "metadata": {},
   "outputs": [
    {
     "data": {
      "text/plain": [
       "Date\n",
       "2019-01-04    37450\n",
       "2019-01-03    37600\n",
       "2019-01-08    38100\n",
       "2018-12-27    38250\n",
       "2018-12-26    38350\n",
       "              ...  \n",
       "2021-01-25    89400\n",
       "2021-01-13    89700\n",
       "2021-01-14    89700\n",
       "2021-01-12    90600\n",
       "2021-01-11    91000\n",
       "Name: Close, Length: 977, dtype: int64"
      ]
     },
     "execution_count": 104,
     "metadata": {},
     "output_type": "execute_result"
    }
   ],
   "source": [
    "# value 순서대로 정렬\n",
    "samsung_price.sort_values(ascending=True) # 값이 낮은 순서대로 정렬"
   ]
  },
  {
   "cell_type": "markdown",
   "id": "c7c1aff4",
   "metadata": {},
   "source": [
    "# Series 조건 설정\n",
    "\n"
   ]
  },
  {
   "cell_type": "code",
   "execution_count": null,
   "id": "fb1ddd99",
   "metadata": {},
   "outputs": [
    {
     "data": {
      "text/plain": [
       "Date\n",
       "2018-01-02         NaN\n",
       "2018-01-03    1.176009\n",
       "2018-01-04   -1.046106\n",
       "2018-01-05    2.036022\n",
       "2018-01-08   -0.191865\n",
       "                ...   \n",
       "2021-12-13   -0.130039\n",
       "2021-12-14    0.260417\n",
       "2021-12-15    0.779221\n",
       "2021-12-16    0.257732\n",
       "2021-12-17    0.257069\n",
       "Name: Close, Length: 977, dtype: float64"
      ]
     },
     "execution_count": 110,
     "metadata": {},
     "output_type": "execute_result"
    }
   ],
   "source": [
    "samsung_price = pd.read_csv(path, index_col = 0, header = 0).squeeze()\n",
    "samsung_price\n",
    "samsung_return = (samsung_price - samsung_price.shift(1))/samsung_price.shift(1)\n",
    "samsung_return = samsung_price.pct_change() * 100 # 퍼센트로 계산\n",
    "samsung_return"
   ]
  },
  {
   "cell_type": "code",
   "execution_count": 114,
   "id": "866fb308",
   "metadata": {},
   "outputs": [
    {
     "name": "stdout",
     "output_type": "stream",
     "text": [
      "Date\n",
      "2018-03-06     4.026549\n",
      "2018-09-14     4.086266\n",
      "2018-11-02     4.744958\n",
      "2019-03-21     4.086266\n",
      "2020-03-20     5.704307\n",
      "2020-03-24    10.470588\n",
      "2020-04-17     4.897959\n",
      "2020-06-03     6.031128\n",
      "2020-06-16     4.408818\n",
      "2020-07-28     5.395683\n",
      "2020-11-16     4.905063\n",
      "2020-11-23     4.327666\n",
      "2020-12-24     5.277402\n",
      "2021-01-08     7.117008\n",
      "2021-02-25     4.024390\n",
      "2021-11-22     5.196629\n",
      "2021-12-01     4.347826\n",
      "Name: Close, dtype: float64\n"
     ]
    }
   ],
   "source": [
    "#print(samsung_return.values)\n",
    "print(samsung_return[samsung_return.values >= 4])"
   ]
  },
  {
   "cell_type": "code",
   "execution_count": 121,
   "id": "d9b152b9",
   "metadata": {},
   "outputs": [
    {
     "data": {
      "text/plain": [
       "'Over 4%'"
      ]
     },
     "execution_count": 121,
     "metadata": {},
     "output_type": "execute_result"
    }
   ],
   "source": [
    "import numpy as np\n",
    "np.where(samsung_return.values >= 4, 1, 0)\n",
    "samsung_return_over_4 = pd.Series(np.where(samsung_return.values>=4, \"Over 4%\", \"Under\"))# where로 찾아가지고, 조건에 충족되면 \"Over 4%\"로 표시, 안되면 \"Under\"로 표시\n",
    "samsung_return_over_4.index = samsung_return.index # 인덱스를 날짜로 부여하기 위해서 작성\n",
    "samsung_return_over_4.loc['2020-06-16'] # 특정날의 데이터가 오버인지 아래인지 확인"
   ]
  },
  {
   "cell_type": "markdown",
   "id": "1fec774e",
   "metadata": {},
   "source": [
    "# Series 값의 구간을 나눠보자\n",
    "\n"
   ]
  },
  {
   "cell_type": "markdown",
   "id": "856099d1",
   "metadata": {},
   "source": []
  }
 ],
 "metadata": {
  "hide_input": false,
  "kernelspec": {
   "display_name": "base",
   "language": "python",
   "name": "python3"
  },
  "language_info": {
   "codemirror_mode": {
    "name": "ipython",
    "version": 3
   },
   "file_extension": ".py",
   "mimetype": "text/x-python",
   "name": "python",
   "nbconvert_exporter": "python",
   "pygments_lexer": "ipython3",
   "version": "3.12.7"
  },
  "toc": {
   "base_numbering": 1,
   "nav_menu": {},
   "number_sections": true,
   "sideBar": true,
   "skip_h1_title": false,
   "title_cell": "Table of Contents",
   "title_sidebar": "Contents",
   "toc_cell": false,
   "toc_position": {},
   "toc_section_display": true,
   "toc_window_display": true
  },
  "varInspector": {
   "cols": {
    "lenName": 16,
    "lenType": 16,
    "lenVar": 40
   },
   "kernels_config": {
    "python": {
     "delete_cmd_postfix": "",
     "delete_cmd_prefix": "del ",
     "library": "var_list.py",
     "varRefreshCmd": "print(var_dic_list())"
    },
    "r": {
     "delete_cmd_postfix": ") ",
     "delete_cmd_prefix": "rm(",
     "library": "var_list.r",
     "varRefreshCmd": "cat(var_dic_list()) "
    }
   },
   "types_to_exclude": [
    "module",
    "function",
    "builtin_function_or_method",
    "instance",
    "_Feature"
   ],
   "window_display": false
  }
 },
 "nbformat": 4,
 "nbformat_minor": 5
}
